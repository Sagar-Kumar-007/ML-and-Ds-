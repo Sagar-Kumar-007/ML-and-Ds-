{
 "cells": [
  {
   "cell_type": "markdown",
   "metadata": {},
   "source": [
    "# Data Preprocessing"
   ]
  },
  {
   "cell_type": "code",
   "execution_count": 2,
   "metadata": {},
   "outputs": [],
   "source": [
    "# Data preprocessing is a process to convert raw data into meaningful data using different techniques"
   ]
  },
  {
   "cell_type": "code",
   "execution_count": 3,
   "metadata": {},
   "outputs": [],
   "source": [
    "# Why is Data preprocessing important?\n",
    "    # Data in the real world is dirty\n",
    "    #   Dirty can be noisy, incomplete, inconsistent and duplicate"
   ]
  },
  {
   "cell_type": "code",
   "execution_count": 18,
   "metadata": {},
   "outputs": [],
   "source": [
    "# Machine learning follows the following rule(Learn like kids):-\n",
    "    # GIGO: Garbage In Garbage Out\n",
    "# Hence, if your dataset is meaningful your model will respond accurately or else it will not respond accurately"
   ]
  },
  {
   "cell_type": "markdown",
   "metadata": {},
   "source": [
    "## Major steps in Data Preprocessing"
   ]
  },
  {
   "cell_type": "code",
   "execution_count": 19,
   "metadata": {},
   "outputs": [],
   "source": [
    "# Major steps in Data Preprocessing:-\n",
    "    # Data Cleaning\n",
    "    # Data Integration\n",
    "    # Data reduction\n",
    "    # Data Transformation\n",
    "    # Data Discretization"
   ]
  },
  {
   "cell_type": "code",
   "execution_count": 20,
   "metadata": {},
   "outputs": [],
   "source": [
    "# Data Cleaning:- Filling missing values, smooth out noise while identifying outliers(irrelevant data) and\n",
    "#                 correcting inconsistencies in data"
   ]
  },
  {
   "cell_type": "code",
   "execution_count": 21,
   "metadata": {},
   "outputs": [],
   "source": [
    "# Data Integration:- It is a technique to merge data from multiple sources to coherent data store, such as a data warehouse"
   ]
  },
  {
   "cell_type": "code",
   "execution_count": 22,
   "metadata": {},
   "outputs": [],
   "source": [
    "# Data Recduction:- It is technique used to reduce data size by aggregating, eliminating redundant features, or clustering\n",
    "#                   for instance"
   ]
  },
  {
   "cell_type": "code",
   "execution_count": 23,
   "metadata": {},
   "outputs": [],
   "source": [
    "# Data Transformation:- Data transormation means data are transformed into forms appropriate for ML model training, such as\n",
    "#                       normalization, may be applied where data are scaled to fall within a smaller range like 0 to 1\n",
    "# Data transformation includes:-\n",
    "    # Aggregation\n",
    "    # Feature-type conversion\n",
    "    # Normalization\n",
    "    # Attribute/feature construction"
   ]
  },
  {
   "cell_type": "code",
   "execution_count": 24,
   "metadata": {},
   "outputs": [],
   "source": [
    "# Data Discretization:- Data discretization technique transforms numeric data by mapping values to intervals or concept labels\n",
    "# It can be used to reduce the number of values for a given continuous attribute by dividing the range of attributes into\n",
    "# intervals.\n",
    "# Discretization technique includes:-\n",
    "    # Binning\n",
    "    # Histogram Analysis\n",
    "    # Cluster analysis\n",
    "    # Decision-tree analysis\n",
    "    # Correlation analysis\n",
    "# Ex- Consider a group of people with ages {1,2,3,4,5,6,7,8,9}\n",
    "#     You can divide them further into sub groups like {1-3,4-6,7-9}...This is discretization"
   ]
  },
  {
   "cell_type": "markdown",
   "metadata": {},
   "source": [
    "# Feature Engineering"
   ]
  },
  {
   "cell_type": "code",
   "execution_count": 25,
   "metadata": {},
   "outputs": [],
   "source": [
    "# What is Feature Engineering?\n",
    "    # It is the process to create features/extract features from existing features domain knowledge to increase the performance\n",
    "    # of the machine learning model"
   ]
  },
  {
   "cell_type": "code",
   "execution_count": null,
   "metadata": {},
   "outputs": [],
   "source": [
    "# Types of variables:-\n",
    "    # Numerical Variable:-\n",
    "        # Discrete variable- Integers\n",
    "        # Continuous variable- Float\n",
    "    # Categorical Variable (The values of a categorical variable are selected from a group of categories, also called as labels):-\n",
    "        # Ordinal Variables (Ordinal variables are categorical variables in which the categories can be meaningfully ordered):-\n",
    "            # When the ordinal variable convert into number then it has mathematical value\n",
    "            # Ex:- rating (Good,better,best,bad,worse,worst), grading, months\n",
    "        # Nominal Variable (It is same like ordinal variable but there is nothing that indicates an intrinsic order of the\n",
    "        #                   labels and in principle)\n",
    "            # All labels donot have any order\n",
    "            # No mathematical value\n",
    "            # Ex:- Color{red,yellow,blue},products{laptop,bag,books,clothes},language{c,c++,python,c#,js} etc.\n",
    "    # Date and Time Variables (Contains date only, time only, date and time only variables):-\n",
    "        # It is found in datasets having info like system ON/OFF, birth report, death report, money withdraw etc\n",
    "        # Ex:- Date only {Jan-2010}, Time only {10.15 AM}, DateTime {7-Dec-2020 12.00.00}\n",
    "    # Mixed Variables (Contains both numerical and categorical variables):-\n",
    "        # Ex:- Percentage {90,80,failed,absent,45}"
   ]
  }
 ],
 "metadata": {
  "kernelspec": {
   "display_name": "Python 3",
   "language": "python",
   "name": "python3"
  },
  "language_info": {
   "codemirror_mode": {
    "name": "ipython",
    "version": 3
   },
   "file_extension": ".py",
   "mimetype": "text/x-python",
   "name": "python",
   "nbconvert_exporter": "python",
   "pygments_lexer": "ipython3",
   "version": "3.7.6"
  },
  "toc": {
   "base_numbering": 1,
   "nav_menu": {},
   "number_sections": true,
   "sideBar": true,
   "skip_h1_title": false,
   "title_cell": "Table of Contents",
   "title_sidebar": "Contents",
   "toc_cell": false,
   "toc_position": {},
   "toc_section_display": true,
   "toc_window_display": false
  }
 },
 "nbformat": 4,
 "nbformat_minor": 4
}
